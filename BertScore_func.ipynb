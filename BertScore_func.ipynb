{
 "cells": [
  {
   "cell_type": "code",
   "execution_count": 34,
   "metadata": {},
   "outputs": [
    {
     "name": "stdout",
     "output_type": "stream",
     "text": [
      " C 드라이브의 볼륨에는 이름이 없습니다.\n",
      " 볼륨 일련 번호: FA0B-B857\n",
      "\n",
      " C:\\Users\\308_2\\jongeun 디렉터리\n",
      "\n",
      "2020-12-29  오후 10:27    <DIR>          .\n",
      "2020-12-29  오후 10:27    <DIR>          ..\n",
      "2020-12-29  오후 10:01    <DIR>          .ipynb_checkpoints\n",
      "2020-12-29  오후 10:27           142,011 bert_score_test.ipynb\n",
      "2020-11-26  오후 11:39    <DIR>          KoBERTScore\n",
      "2020-12-25  오후 04:02    <DIR>          KoGPT2-FineTuning_test_dataset\n",
      "2020-12-25  오후 04:10    <DIR>          KoGPT2-FineTuning_test_dataset2\n",
      "2020-12-29  오후 03:50           332,270 result2.csv\n",
      "2020-12-29  오후 09:31             8,805 Untitled.ipynb\n",
      "               3개 파일             483,086 바이트\n",
      "               6개 디렉터리  44,042,088,448 바이트 남음\n"
     ]
    }
   ],
   "source": [
    "!cd .."
   ]
  },
  {
   "cell_type": "code",
   "execution_count": 35,
   "metadata": {},
   "outputs": [],
   "source": [
    "import pandas as pd\n",
    "data = pd.read_csv('result182.csv')"
   ]
  },
  {
   "cell_type": "code",
   "execution_count": 36,
   "metadata": {},
   "outputs": [
    {
     "data": {
      "text/html": [
       "<div>\n",
       "<style scoped>\n",
       "    .dataframe tbody tr th:only-of-type {\n",
       "        vertical-align: middle;\n",
       "    }\n",
       "\n",
       "    .dataframe tbody tr th {\n",
       "        vertical-align: top;\n",
       "    }\n",
       "\n",
       "    .dataframe thead th {\n",
       "        text-align: right;\n",
       "    }\n",
       "</style>\n",
       "<table border=\"1\" class=\"dataframe\">\n",
       "  <thead>\n",
       "    <tr style=\"text-align: right;\">\n",
       "      <th></th>\n",
       "      <th>lyrics</th>\n",
       "      <th>bigram+low</th>\n",
       "      <th>bigram+mid</th>\n",
       "      <th>bigram+high</th>\n",
       "      <th>trigram+low</th>\n",
       "      <th>trigram+mid</th>\n",
       "      <th>trigram+high</th>\n",
       "    </tr>\n",
       "  </thead>\n",
       "  <tbody>\n",
       "    <tr>\n",
       "      <th>0</th>\n",
       "      <td>우리는 지난 힘들었던 일을 빼곡히 편지지에 적어본다.</td>\n",
       "      <td>우리는 지난 힘들었던 일을 빼곡히 편지지에 적어본다.</td>\n",
       "      <td>우리는 지난 힘들었던 일을 빼곡히 편지지에 적어본다.</td>\n",
       "      <td>우리는 지난 힘들었던 일을 빼곡히 편지지에 적은 다음해들을 만나본다.</td>\n",
       "      <td>우리는 지난 힘들었던 일을 빼곡히 편지지에 적어본다.</td>\n",
       "      <td>우리는 지난 힘들었던 일을 빼곡히 편지지에 적어본다.</td>\n",
       "      <td>우리는 지난 힘들었던 일들을 빼곡히 편지지에 적어봐.</td>\n",
       "    </tr>\n",
       "    <tr>\n",
       "      <th>1</th>\n",
       "      <td>나는 매섭게 부는 바람에 흩날리는 잎파리를 보며 머리 속의 고민들을 날려보낸다.</td>\n",
       "      <td>나는 매섭게 부는 바람에 흩날리는 잎파리를 보며 머리 속의 고민들을 날려보낸다.</td>\n",
       "      <td>나는 매섭게 부는 바람에 흩날리는 잎파리를 보며 머리 속의 고민들을 날려보낸다.</td>\n",
       "      <td>나는 매섭게 부는 바람에 흔들리는 강아지에 빗맞은 눈물을 찍어 사진을 찍고 있다.</td>\n",
       "      <td>나는 매섭게 부는 바람에 흩날리는 잎파리를 보며 머리 속의 고민들을 날려보낸다.</td>\n",
       "      <td>나는 매섭게 부는 바람에 흩날리는 잎파리를 보며 머리 속의 고민들을 날려보낸다.</td>\n",
       "      <td>나는 매섭게 부는 바람과 훈훈함을 알아 차릴 것이다.</td>\n",
       "    </tr>\n",
       "  </tbody>\n",
       "</table>\n",
       "</div>"
      ],
      "text/plain": [
       "                                         lyrics  \\\n",
       "0                 우리는 지난 힘들었던 일을 빼곡히 편지지에 적어본다.   \n",
       "1  나는 매섭게 부는 바람에 흩날리는 잎파리를 보며 머리 속의 고민들을 날려보낸다.   \n",
       "\n",
       "                                     bigram+low  \\\n",
       "0                 우리는 지난 힘들었던 일을 빼곡히 편지지에 적어본다.   \n",
       "1  나는 매섭게 부는 바람에 흩날리는 잎파리를 보며 머리 속의 고민들을 날려보낸다.   \n",
       "\n",
       "                                     bigram+mid  \\\n",
       "0                 우리는 지난 힘들었던 일을 빼곡히 편지지에 적어본다.   \n",
       "1  나는 매섭게 부는 바람에 흩날리는 잎파리를 보며 머리 속의 고민들을 날려보낸다.   \n",
       "\n",
       "                                     bigram+high  \\\n",
       "0         우리는 지난 힘들었던 일을 빼곡히 편지지에 적은 다음해들을 만나본다.   \n",
       "1  나는 매섭게 부는 바람에 흔들리는 강아지에 빗맞은 눈물을 찍어 사진을 찍고 있다.   \n",
       "\n",
       "                                    trigram+low  \\\n",
       "0                 우리는 지난 힘들었던 일을 빼곡히 편지지에 적어본다.   \n",
       "1  나는 매섭게 부는 바람에 흩날리는 잎파리를 보며 머리 속의 고민들을 날려보낸다.   \n",
       "\n",
       "                                    trigram+mid                   trigram+high  \n",
       "0                 우리는 지난 힘들었던 일을 빼곡히 편지지에 적어본다.  우리는 지난 힘들었던 일들을 빼곡히 편지지에 적어봐.  \n",
       "1  나는 매섭게 부는 바람에 흩날리는 잎파리를 보며 머리 속의 고민들을 날려보낸다.  나는 매섭게 부는 바람과 훈훈함을 알아 차릴 것이다.  "
      ]
     },
     "execution_count": 36,
     "metadata": {},
     "output_type": "execute_result"
    }
   ],
   "source": [
    "data.head(2)"
   ]
  },
  {
   "cell_type": "code",
   "execution_count": 44,
   "metadata": {},
   "outputs": [],
   "source": [
    "import numpy as np\n",
    "#reference 문장과 candidate 문장 컬럼 가져오기 \n",
    "reference_raw = np.asarray(data[['lyrics']])\n",
    "candidate_raw = np.asarray(data[['trigram+high']])"
   ]
  },
  {
   "cell_type": "code",
   "execution_count": 51,
   "metadata": {},
   "outputs": [
    {
     "name": "stdout",
     "output_type": "stream",
     "text": [
      "Load beomi/kcbert-base with 4 layers\n"
     ]
    }
   ],
   "source": [
    "from KoBERTScore import BERTScore\n",
    "#from bokeh.plotting import show\n",
    "model_name = \"beomi/kcbert-base\"\n",
    "bertscore = BERTScore(model_name, best_layer=4)\n",
    "bs = []\n",
    "\n",
    "def bertScore(r,c):\n",
    "    reference = []\n",
    "    candidate = []\n",
    "    for i in range(len(r)):\n",
    "        reference.append(r[i][0])\n",
    "        candidate.append(c[i][0])\n",
    "    bs.append(bertscore(reference, candidate, batch_size=64))"
   ]
  },
  {
   "cell_type": "code",
   "execution_count": 52,
   "metadata": {},
   "outputs": [
    {
     "name": "stderr",
     "output_type": "stream",
     "text": [
      "Calculating BERTScore:   0%|                                                                     | 0/4 [00:00<?, ?it/s]\n",
      "Train IDF: 1it [00:00, 38.52it/s]\n",
      "Calculating BERTScore: 100%|█████████████████████████████████████████████████████████████| 4/4 [00:00<00:00, 13.46it/s]\n"
     ]
    }
   ],
   "source": [
    "bertScore(reference_raw, candidate_raw)\n",
    "#print(candidate)"
   ]
  },
  {
   "cell_type": "code",
   "execution_count": 69,
   "metadata": {},
   "outputs": [],
   "source": [
    "import csv \n",
    "#reference 문장과 candidate 문장m bleu score csv저장\n",
    "bs_list = np.asarray(bs[0])\n",
    "row_list=[]\n",
    "row_list.append([\"reference\",\"candidate\",\"bert score\"])\n",
    "for i in range(len(reference_raw)):\n",
    "    row_list.append([reference_raw[i][0], candidate_raw[i][0], bs_list[i]])\n",
    "\n",
    "with open('bertscore_tri+high.csv', 'w', newline='') as file:\n",
    "    writer = csv.writer(file)\n",
    "    writer.writerows(row_list)"
   ]
  },
  {
   "cell_type": "code",
   "execution_count": null,
   "metadata": {},
   "outputs": [],
   "source": []
  }
 ],
 "metadata": {
  "kernelspec": {
   "display_name": "joanne",
   "language": "python",
   "name": "joanne"
  },
  "language_info": {
   "codemirror_mode": {
    "name": "ipython",
    "version": 3
   },
   "file_extension": ".py",
   "mimetype": "text/x-python",
   "name": "python",
   "nbconvert_exporter": "python",
   "pygments_lexer": "ipython3",
   "version": "3.6.12"
  }
 },
 "nbformat": 4,
 "nbformat_minor": 4
}
